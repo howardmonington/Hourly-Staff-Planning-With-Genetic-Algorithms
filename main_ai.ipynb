{
 "cells": [
  {
   "cell_type": "markdown",
   "metadata": {},
   "source": [
    "# Hourly Staff Planning"
   ]
  },
  {
   "cell_type": "code",
   "execution_count": 1,
   "metadata": {},
   "outputs": [],
   "source": [
    "import numpy as np\n",
    "import pandas as pd"
   ]
  },
  {
   "cell_type": "markdown",
   "metadata": {},
   "source": [
    "Staff planning is a topic of optimization research that comes back in many companies. As soon as a company has many employees, it becomes hard to find planning that suits the business needs while respecting certain constraints.\n",
    "\n",
    "I'll be starting with the shape of the staff planning that is required. Then, I'll use genetic algorithms to predict an optimal staff planning strategy in which all employees work every weekday, 5 days a week (the shop is closed on the weekend). I'll be working from these assumptions:\n",
    "\n",
    "* A shift is given by a starting time and shift duration\n",
    "* I have data on the number of staff needed per hour\n",
    "* An employee can be planned to not work on a certain day\n",
    "\n",
    "## Staff Planning Initial Shape\n",
    "The staff planning is represented as a list per day. There are 5 lists for each of the 5 days\n",
    "Each day consists of many lists of lenght 3\n",
    "Each list of 3 is an employee with the following items: (staff id, starting time, shift duration)\n",
    "The number of lists is the number of employees that are possibly available on that day"
   ]
  },
  {
   "cell_type": "code",
   "execution_count": 2,
   "metadata": {},
   "outputs": [],
   "source": [
    "staff_planning = [\n",
    "    [[0, 0, 10],[1, 0, 10],[2, 0, 10],[3, 0, 10],[4, 0, 10],[5, 0, 10],[6, 0, 10],[7, 0, 10],[8, 0, 10],[9, 0, 10],[10, 0, 10]],\n",
    "    [[0, 0, 10],[1, 0, 10],[2, 0, 10],[3, 0, 10],[4, 0, 10],[5, 0, 10],[6, 0, 10],[7, 0, 10],[8, 0, 10],[9, 0, 10],[10, 0, 10]],\n",
    "    [[0, 0, 10],[1, 0, 10],[2, 0, 10],[3, 0, 10],[4, 0, 10],[5, 0, 10],[6, 0, 10],[7, 0, 10],[8, 0, 10],[9, 0, 10],[10, 0, 10]],\n",
    "    [[0, 0, 10],[1, 0, 10],[2, 0, 10],[3, 0, 10],[4, 0, 10],[5, 0, 10],[6, 0, 10],[7, 0, 10],[8, 0, 10],[9, 0, 10],[10, 0, 10]],\n",
    "    [[0, 0, 10],[1, 0, 10],[2, 0, 10],[3, 0, 10],[4, 0, 10],[5, 0, 10],[6, 0, 10],[7, 0, 10],[8, 0, 10],[9, 0, 10],[10, 0, 10]]\n",
    "]"
   ]
  },
  {
   "cell_type": "code",
   "execution_count": 3,
   "metadata": {},
   "outputs": [
    {
     "data": {
      "text/plain": [
       "[3, 0, 10]"
      ]
     },
     "execution_count": 3,
     "metadata": {},
     "output_type": "execute_result"
    }
   ],
   "source": [
    "staff_planning[0][3]"
   ]
  },
  {
   "cell_type": "markdown",
   "metadata": {},
   "source": [
    "## Staff Planning for Shop\n",
    "In order to optimize the staff planning, I need information on what would be perfect planning\n",
    "Based on previous days, I know how many staff are needed every hour\n",
    "The staff needed is in the following shape:\n",
    "<li> list of days </li>\n",
    "<li> each day is a list of 24 hours, with the number of employees needed every hour </li>"
   ]
  },
  {
   "cell_type": "code",
   "execution_count": 4,
   "metadata": {},
   "outputs": [],
   "source": [
    "hourlystaff_needed = np.array([\n",
    "    [0, 0, 0, 0, 0, 0, 4, 4, 4, 2, 2, 2, 6, 6, 2, 2, 2, 6, 6, 6, 2, 2, 2, 2],\n",
    "    [0, 0, 0, 0, 0, 0, 4, 4, 4, 2, 2, 2, 6, 6, 2, 2, 2, 6, 6, 6, 2, 2, 2, 2],\n",
    "    [0, 0, 0, 0, 0, 0, 4, 4, 4, 2, 2, 2, 6, 6, 2, 2, 2, 6, 6, 6, 2, 2, 2, 2],\n",
    "    [0, 0, 0, 0, 0, 0, 4, 4, 4, 2, 2, 2, 6, 6, 2, 2, 2, 6, 6, 6, 2, 2, 2, 2],\n",
    "    [0, 0, 0, 0, 0, 0, 4, 4, 4, 2, 2, 2, 6, 6, 2, 2, 2, 6, 6, 6, 2, 2, 2, 2]\n",
    "])"
   ]
  },
  {
   "cell_type": "code",
   "execution_count": 5,
   "metadata": {},
   "outputs": [
    {
     "data": {
      "text/plain": [
       "array([0, 0, 0, 0, 0, 0, 4, 4, 4, 2, 2, 2, 6, 6, 2, 2, 2, 6, 6, 6, 2, 2,\n",
       "       2, 2])"
      ]
     },
     "execution_count": 5,
     "metadata": {},
     "output_type": "execute_result"
    }
   ],
   "source": [
    "hourlystaff_needed[0]"
   ]
  },
  {
   "cell_type": "markdown",
   "metadata": {},
   "source": [
    "## Conversion from shifts to staff-per-hour\n",
    "<li> In the optimization, the genetic algorithm will iteratively change the starting times and the durations </li>\n",
    "<li> This is then converted into number of employees per hour </li>\n",
    "<li> Then I measure how far away this is from the staff-needed planning </li>\n",
    "\n",
    "In order to do this, I will need a function to convert one type of planning into the other one"
   ]
  },
  {
   "cell_type": "code",
   "execution_count": 6,
   "metadata": {},
   "outputs": [],
   "source": [
    "# analyze whether the employee is present at a given time with yes/no\n",
    "# based on the employee list of 3 (id, start time, duration)\n",
    "def employee_present(employee, time):\n",
    "    employee_start_time = employee[1]\n",
    "    employee_duration = employee[2]\n",
    "    employee_end_time = employee_start_time + employee_duration\n",
    "    if (time >= employee_start_time) and (time < employee_end_time):\n",
    "        return True\n",
    "    return False"
   ]
  },
  {
   "cell_type": "code",
   "execution_count": 7,
   "metadata": {},
   "outputs": [
    {
     "data": {
      "text/plain": [
       "True"
      ]
     },
     "execution_count": 7,
     "metadata": {},
     "output_type": "execute_result"
    }
   ],
   "source": [
    "employee_present(staff_planning[0][3], 9)"
   ]
  },
  {
   "cell_type": "code",
   "execution_count": 8,
   "metadata": {},
   "outputs": [],
   "source": [
    "# convert the staff planning (lists of staff id, starting time, shift duration) to the staff present at each hour\n",
    "def staffplanning_to_hourlyplanning(staff_planning):\n",
    "    hourlystaff_week = []\n",
    "    for day in staff_planning:\n",
    "        \n",
    "        hourlystaff_day = []\n",
    "        for employee in day:\n",
    "            \n",
    "            employee_present_hour = []\n",
    "            for time in range(0, 24):\n",
    "                # an array for each employee and True/False for whether they are working each hour\n",
    "                employee_present_hour.append(employee_present(employee, time))\n",
    "            \n",
    "            # an array of all employees working in a day and True/False for each hour\n",
    "            hourlystaff_day.append(employee_present_hour)\n",
    "        \n",
    "        # an array containing a week's worth of data of all employees working each day and True/False for each huor\n",
    "        hourlystaff_week.append(hourlystaff_day)\n",
    "    \n",
    "    # counts up the number of staff working each hour of each day\n",
    "    hourlystaff_week = np.array(hourlystaff_week).sum(axis = 1)\n",
    "    return hourlystaff_week"
   ]
  },
  {
   "cell_type": "code",
   "execution_count": 9,
   "metadata": {},
   "outputs": [],
   "source": [
    "hourlystaff_week = staffplanning_to_hourlyplanning(staff_planning)"
   ]
  },
  {
   "cell_type": "code",
   "execution_count": 10,
   "metadata": {},
   "outputs": [
    {
     "data": {
      "text/plain": [
       "array([[11, 11, 11, 11, 11, 11, 11, 11, 11, 11,  0,  0,  0,  0,  0,  0,\n",
       "         0,  0,  0,  0,  0,  0,  0,  0],\n",
       "       [11, 11, 11, 11, 11, 11, 11, 11, 11, 11,  0,  0,  0,  0,  0,  0,\n",
       "         0,  0,  0,  0,  0,  0,  0,  0],\n",
       "       [11, 11, 11, 11, 11, 11, 11, 11, 11, 11,  0,  0,  0,  0,  0,  0,\n",
       "         0,  0,  0,  0,  0,  0,  0,  0],\n",
       "       [11, 11, 11, 11, 11, 11, 11, 11, 11, 11,  0,  0,  0,  0,  0,  0,\n",
       "         0,  0,  0,  0,  0,  0,  0,  0],\n",
       "       [11, 11, 11, 11, 11, 11, 11, 11, 11, 11,  0,  0,  0,  0,  0,  0,\n",
       "         0,  0,  0,  0,  0,  0,  0,  0]])"
      ]
     },
     "execution_count": 10,
     "metadata": {},
     "output_type": "execute_result"
    }
   ],
   "source": [
    "hourlystaff_week"
   ]
  },
  {
   "cell_type": "markdown",
   "metadata": {},
   "source": [
    "## Cost function to evaluate how well the staff planning performed based on the staff needed"
   ]
  },
  {
   "cell_type": "code",
   "execution_count": 11,
   "metadata": {},
   "outputs": [],
   "source": [
    "# the cost is calculated as hours understaffed + hours overstaffed\n",
    "def cost(hourlystaff, hourlystaff_needed):\n",
    "    # finds the difference between the actual hourly staff compared with the hourlystaff needed\n",
    "    errors = hourlystaff - hourlystaff_needed\n",
    "    \n",
    "    # calculates how many hours were overstaffed and by how much\n",
    "    overstaff = abs(errors[errors > 0].sum())\n",
    "    \n",
    "    # calculates how many hours were understaffed and by how much\n",
    "    understaff = abs(errors[errors < 0].sum())\n",
    "    \n",
    "    # assigning a cost to each hour overstaffed or understaffed\n",
    "    overstaff_cost = 1\n",
    "    understaff_cost = 1\n",
    "    \n",
    "    # calculating the cost function\n",
    "    cost = overstaff_cost * overstaff + understaff_cost * understaff\n",
    "    return cost"
   ]
  },
  {
   "cell_type": "code",
   "execution_count": 12,
   "metadata": {},
   "outputs": [
    {
     "data": {
      "text/plain": [
       "720"
      ]
     },
     "execution_count": 12,
     "metadata": {},
     "output_type": "execute_result"
    }
   ],
   "source": [
    "# cost of default\n",
    "cost(hourlystaff_week, hourlystaff_needed)"
   ]
  },
  {
   "cell_type": "markdown",
   "metadata": {},
   "source": [
    "## Random initialization\n",
    "First, I will need to randomly initialize the planning. There are a fixed number of days and staff. The start time of each employee of each day is a random choice between 0-23 and the duration of each employee of each day is a random choice between 0-10"
   ]
  },
  {
   "cell_type": "code",
   "execution_count": 13,
   "metadata": {},
   "outputs": [],
   "source": [
    "# generate an entirely random staff planning for a certain number of staff and days\n",
    "def generate_random_staff_planning(n_days, n_staff):\n",
    "    period_planning = []\n",
    "    for day in range(n_days):\n",
    "        day_planning = []\n",
    "        for employee_id in range(n_staff):\n",
    "            start_time = np.random.randint(0, 23)\n",
    "            duration = np.random.randint(0, 10)\n",
    "            employee = [employee_id, start_time, duration]\n",
    "            day_planning.append(employee)\n",
    "        period_planning.append(day_planning)\n",
    "    return period_planning"
   ]
  },
  {
   "cell_type": "code",
   "execution_count": 14,
   "metadata": {},
   "outputs": [
    {
     "data": {
      "text/plain": [
       "[[[0, 5, 9], [1, 11, 6], [2, 9, 9]],\n",
       " [[0, 20, 0], [1, 9, 5], [2, 6, 0]],\n",
       " [[0, 10, 8], [1, 10, 0], [2, 21, 8]],\n",
       " [[0, 20, 3], [1, 0, 2], [2, 13, 0]],\n",
       " [[0, 21, 0], [1, 13, 1], [2, 20, 9]]]"
      ]
     },
     "execution_count": 14,
     "metadata": {},
     "output_type": "execute_result"
    }
   ],
   "source": [
    "# sample random week with 5 days and 3 employees\n",
    "sample_random_week = generate_random_staff_planning(5, 3)\n",
    "sample_random_week"
   ]
  },
  {
   "cell_type": "code",
   "execution_count": 15,
   "metadata": {},
   "outputs": [
    {
     "data": {
      "text/plain": [
       "211"
      ]
     },
     "execution_count": 15,
     "metadata": {},
     "output_type": "execute_result"
    }
   ],
   "source": [
    "# creating sample random week with 5 days and 11 employees\n",
    "random_staff_planning = generate_random_staff_planning(5, 11)\n",
    "\n",
    "# measuring the cost of this randomly generated week compared to the hourly staff needed\n",
    "cost(staffplanning_to_hourlyplanning(random_staff_planning), hourlystaff_needed)"
   ]
  },
  {
   "cell_type": "markdown",
   "metadata": {},
   "source": [
    "# Creating the Genetic Algorithm\n",
    "## Create Generation\n",
    "Here, I'm writing a function to create the initial generation of parents with random planning"
   ]
  },
  {
   "cell_type": "code",
   "execution_count": 16,
   "metadata": {},
   "outputs": [],
   "source": [
    "# create a parent generation of n parents\n",
    "def create_parent_generation(n_parents, n_days = 7, n_staff = 11):\n",
    "    parents = []\n",
    "    for i in range(n_parents):\n",
    "        parent = generate_random_staff_planning(n_days = n_days, n_staff = n_staff)\n",
    "        parents.append(parent)\n",
    "    return parents"
   ]
  },
  {
   "cell_type": "code",
   "execution_count": 17,
   "metadata": {},
   "outputs": [
    {
     "data": {
      "text/plain": [
       "[[[0, 1, 7],\n",
       "  [1, 4, 8],\n",
       "  [2, 8, 1],\n",
       "  [3, 2, 4],\n",
       "  [4, 21, 2],\n",
       "  [5, 2, 1],\n",
       "  [6, 14, 2],\n",
       "  [7, 22, 0],\n",
       "  [8, 10, 7],\n",
       "  [9, 15, 7],\n",
       "  [10, 17, 1]],\n",
       " [[0, 20, 5],\n",
       "  [1, 14, 6],\n",
       "  [2, 20, 8],\n",
       "  [3, 16, 5],\n",
       "  [4, 22, 5],\n",
       "  [5, 19, 3],\n",
       "  [6, 14, 4],\n",
       "  [7, 12, 3],\n",
       "  [8, 22, 8],\n",
       "  [9, 12, 5],\n",
       "  [10, 20, 3]],\n",
       " [[0, 17, 2],\n",
       "  [1, 9, 2],\n",
       "  [2, 19, 1],\n",
       "  [3, 7, 6],\n",
       "  [4, 10, 8],\n",
       "  [5, 21, 3],\n",
       "  [6, 10, 0],\n",
       "  [7, 11, 4],\n",
       "  [8, 5, 3],\n",
       "  [9, 4, 0],\n",
       "  [10, 10, 6]],\n",
       " [[0, 15, 1],\n",
       "  [1, 0, 5],\n",
       "  [2, 7, 9],\n",
       "  [3, 12, 9],\n",
       "  [4, 15, 6],\n",
       "  [5, 11, 5],\n",
       "  [6, 15, 9],\n",
       "  [7, 16, 4],\n",
       "  [8, 13, 5],\n",
       "  [9, 3, 3],\n",
       "  [10, 12, 4]],\n",
       " [[0, 5, 5],\n",
       "  [1, 0, 3],\n",
       "  [2, 4, 4],\n",
       "  [3, 14, 5],\n",
       "  [4, 11, 9],\n",
       "  [5, 2, 8],\n",
       "  [6, 19, 9],\n",
       "  [7, 14, 8],\n",
       "  [8, 19, 5],\n",
       "  [9, 18, 7],\n",
       "  [10, 9, 0]]]"
      ]
     },
     "execution_count": 17,
     "metadata": {},
     "output_type": "execute_result"
    }
   ],
   "source": [
    "# creating a parent generation with 10 parents\n",
    "parent_generation = create_parent_generation(10, n_days = 5)\n",
    "\n",
    "# showing one of the parents\n",
    "parent_generation[0]"
   ]
  },
  {
   "cell_type": "markdown",
   "metadata": {},
   "source": [
    "## Create Cross Over / Combination\n",
    "There are two key steps in Genetic Algorihtms: mating and mutation. In the mating step, the new generation is formed through natural selection from the offspring of individuals of the parent population. In this function, I'm randomly combining the genes of two parents to create the offspring."
   ]
  },
  {
   "cell_type": "code",
   "execution_count": 18,
   "metadata": {},
   "outputs": [],
   "source": [
    "# for each iteration, randomly select two parents and make a random combination of those two parents\n",
    "# by applying a randomly generated yes/no mask to the two selected parents\n",
    "def random_combine(parents, n_offspring):\n",
    "    # get the number of parents\n",
    "    n_parents = len(parents)\n",
    "    \n",
    "    # get the number of days\n",
    "    n_periods = len(parents[0])\n",
    "    \n",
    "    # get the number of employees working each day\n",
    "    n_employees = len(parents[0][0])\n",
    "    \n",
    "    offspring = []\n",
    "    \n",
    "    for i in range(n_offspring):\n",
    "        # randomly select the dad to be any of the parents\n",
    "        # in np.random.randint, the highest value is one below the high value, so I'll make high = n_parents\n",
    "        random_dad = parents[np.random.randint(low=0, high=n_parents)]\n",
    "        random_mom = parents[np.random.randint(low=0, high=n_parents)]\n",
    "        \n",
    "        # create a mask that randomly selects 0's and 1's in the shape of the random_dad\n",
    "        dad_mask = np.random.randint(low = 0, high= 2, size = np.array(random_dad).shape)\n",
    "        # create a mom_mask which is the exact opposite of the dad mask. Therefore it only chooses from the mom or the dad\n",
    "        mom_mask = np.logical_not(dad_mask)\n",
    "        \n",
    "        # np.add and np.multiply work element-wise\n",
    "        # I multiply the dad with the dad_mask. Since the dad_mask contains only 0's and 1's, this will result in only the \n",
    "        # chosen dad traits. The same with the mom. Then add them together to get the combination of mom and dad traits\n",
    "        child = np.add(np.multiply(random_dad, dad_mask), np.multiply(random_mom, mom_mask))\n",
    "        \n",
    "        offspring.append(child)\n",
    "    return offspring"
   ]
  },
  {
   "cell_type": "code",
   "execution_count": 19,
   "metadata": {},
   "outputs": [
    {
     "data": {
      "text/plain": [
       "[array([[[ 0, 19,  4],\n",
       "         [ 1,  4,  1],\n",
       "         [ 2,  8,  1],\n",
       "         [ 3,  2,  2],\n",
       "         [ 4, 11,  2],\n",
       "         [ 5,  2,  1],\n",
       "         [ 6, 13,  4],\n",
       "         [ 7, 22,  8],\n",
       "         [ 8, 10,  4],\n",
       "         [ 9, 15,  7],\n",
       "         [10, 13,  1]],\n",
       " \n",
       "        [[ 0, 20,  0],\n",
       "         [ 1, 14,  6],\n",
       "         [ 2, 20,  8],\n",
       "         [ 3,  9,  8],\n",
       "         [ 4, 18,  5],\n",
       "         [ 5, 19,  3],\n",
       "         [ 6,  3,  4],\n",
       "         [ 7, 13,  3],\n",
       "         [ 8, 22,  3],\n",
       "         [ 9, 11,  5],\n",
       "         [10,  1,  3]],\n",
       " \n",
       "        [[ 0, 17,  2],\n",
       "         [ 1,  9,  2],\n",
       "         [ 2, 19,  1],\n",
       "         [ 3,  7,  4],\n",
       "         [ 4, 10,  2],\n",
       "         [ 5, 21,  8],\n",
       "         [ 6, 10,  0],\n",
       "         [ 7, 18,  0],\n",
       "         [ 8, 12,  3],\n",
       "         [ 9,  4,  6],\n",
       "         [10, 18,  6]],\n",
       " \n",
       "        [[ 0, 15,  1],\n",
       "         [ 1,  0,  5],\n",
       "         [ 2,  1,  9],\n",
       "         [ 3,  6,  5],\n",
       "         [ 4, 15,  6],\n",
       "         [ 5,  5,  5],\n",
       "         [ 6,  0,  9],\n",
       "         [ 7, 16,  5],\n",
       "         [ 8, 13,  6],\n",
       "         [ 9,  3,  3],\n",
       "         [10,  9,  4]],\n",
       " \n",
       "        [[ 0,  5,  1],\n",
       "         [ 1, 11,  3],\n",
       "         [ 2,  4,  4],\n",
       "         [ 3, 14,  5],\n",
       "         [ 4,  4,  9],\n",
       "         [ 5,  2,  6],\n",
       "         [ 6, 21,  9],\n",
       "         [ 7, 14,  8],\n",
       "         [ 8, 19,  4],\n",
       "         [ 9, 18,  7],\n",
       "         [10,  9,  0]]]),\n",
       " array([[[ 0, 13,  5],\n",
       "         [ 1, 17,  1],\n",
       "         [ 2, 20,  4],\n",
       "         [ 3,  5,  4],\n",
       "         [ 4,  5,  2],\n",
       "         [ 5, 15,  8],\n",
       "         [ 6, 12,  0],\n",
       "         [ 7,  0,  8],\n",
       "         [ 8, 20,  4],\n",
       "         [ 9, 15,  4],\n",
       "         [10,  9,  9]],\n",
       " \n",
       "        [[ 0, 16,  0],\n",
       "         [ 1, 16,  6],\n",
       "         [ 2, 13,  0],\n",
       "         [ 3,  1,  7],\n",
       "         [ 4,  6,  0],\n",
       "         [ 5, 10,  2],\n",
       "         [ 6,  7,  1],\n",
       "         [ 7,  7,  9],\n",
       "         [ 8,  7,  8],\n",
       "         [ 9, 10,  5],\n",
       "         [10,  1,  8]],\n",
       " \n",
       "        [[ 0,  7,  1],\n",
       "         [ 1, 20,  7],\n",
       "         [ 2,  7,  1],\n",
       "         [ 3,  1,  9],\n",
       "         [ 4, 20,  9],\n",
       "         [ 5, 20,  0],\n",
       "         [ 6,  3,  0],\n",
       "         [ 7,  4,  3],\n",
       "         [ 8, 19,  9],\n",
       "         [ 9,  3,  0],\n",
       "         [10,  6,  0]],\n",
       " \n",
       "        [[ 0, 19,  8],\n",
       "         [ 1,  0,  0],\n",
       "         [ 2,  9,  3],\n",
       "         [ 3,  5,  5],\n",
       "         [ 4,  6,  2],\n",
       "         [ 5,  4,  1],\n",
       "         [ 6,  4,  6],\n",
       "         [ 7,  8,  6],\n",
       "         [ 8,  8,  0],\n",
       "         [ 9, 14,  9],\n",
       "         [10, 21,  6]],\n",
       " \n",
       "        [[ 0,  4,  1],\n",
       "         [ 1, 14,  5],\n",
       "         [ 2, 19,  7],\n",
       "         [ 3, 21,  4],\n",
       "         [ 4, 14,  1],\n",
       "         [ 5, 15,  7],\n",
       "         [ 6, 11,  6],\n",
       "         [ 7,  4,  9],\n",
       "         [ 8,  3,  5],\n",
       "         [ 9,  9,  0],\n",
       "         [10,  0,  1]]])]"
      ]
     },
     "execution_count": 19,
     "metadata": {},
     "output_type": "execute_result"
    }
   ],
   "source": [
    "# this creates two offspring from the parent_generation\n",
    "random_combine(parent_generation, 2)"
   ]
  },
  {
   "cell_type": "markdown",
   "metadata": {},
   "source": [
    "## Mutation\n",
    "Mutation consists of adding a completely random change to the new generation. This can allow new genes to be brought into the population that aren't currently present. For example, if a certain gene has been bred out after a few iterations due to randomness and natural selection, without mutation, that gene could never be re-introduced, even if it might actually provide a better solution later on."
   ]
  },
  {
   "cell_type": "code",
   "execution_count": 20,
   "metadata": {},
   "outputs": [],
   "source": [
    "# mutates one parent\n",
    "def mutate_parent(parent, n_mutations):\n",
    "    # number of days\n",
    "    size1 = parent.shape[0]\n",
    "    # number of employees\n",
    "    size2 = parent.shape[1]\n",
    "    \n",
    "    for i in range(n_mutations):\n",
    "        # randomly select one of the days\n",
    "        rand1 = np.random.randint(0, size1)\n",
    "        # randomly select one of the employees\n",
    "        rand2 = np.random.randint(0, size2)\n",
    "        # randomly select either the start time or the hours worked\n",
    "        rand3 = np.random.randint(1, 3)\n",
    "        \n",
    "        # select one random employee on a random day and modify either the start time / hours worked to be a number between 0-10\n",
    "        # do this for however many mutations were specified\n",
    "        if (rand3 == 1):\n",
    "            # if rand3 == 1 that means I am mutating the start time, the start time can be any number from 0-23\n",
    "            parent[rand1,rand2,rand3] = np.random.randint(0,24)\n",
    "        else:\n",
    "            # if rand3 == 2 that means I am mutating the hours worked, the hours worked can be any number from 0-9\n",
    "            parent[rand1,rand2,rand3] = np.random.randint(0,10)\n",
    "            \n",
    "    return parent\n",
    "\n",
    "# mutates an entire generation\n",
    "def mutate_gen(parent_gen, n_mutations):\n",
    "    mutated_parent_gen = []\n",
    "    for parent in parent_gen:\n",
    "        # for every parent, mutate as many of the genes as specified\n",
    "        mutated_parent_gen.append(mutate_parent(parent, n_mutations))\n",
    "    return mutated_parent_gen"
   ]
  },
  {
   "cell_type": "markdown",
   "metadata": {},
   "source": [
    "## Selection Feasibility\n",
    "This function ensures that only the viable parents are selected"
   ]
  },
  {
   "cell_type": "code",
   "execution_count": 21,
   "metadata": {},
   "outputs": [],
   "source": [
    "# if an employee works for more than 10 hours, then it is not acceptable\n",
    "def is_acceptable(parent):\n",
    "    return np.logical_not((np.array(parent)[:,:,2:]>10).any())\n",
    "\n",
    "# select only the parents that are acceptable in the parent generation\n",
    "def select_acceptable(parent_gen):\n",
    "    parent_gen = [parent for parent in parent_gen if is_acceptable(parent)]\n",
    "    return parent_gen"
   ]
  },
  {
   "cell_type": "markdown",
   "metadata": {},
   "source": [
    "## Selection Cost (inverse fitness)\n",
    "This function selects the n_best number of parents from a generation based on my cost function"
   ]
  },
  {
   "cell_type": "code",
   "execution_count": 22,
   "metadata": {},
   "outputs": [],
   "source": [
    "def select_best(parent_gen, hourlystaff_needed, n_best):\n",
    "    costs = []\n",
    "    for idx, parent_staff_planning in enumerate(parent_gen):\n",
    "        # convert each of the parents to the hourlyplanning\n",
    "        parent_hourly_planning = staffplanning_to_hourlyplanning(parent_staff_planning)\n",
    "        # calculate the cost of the parent hourly planning with the staff needed\n",
    "        parent_cost = cost(parent_hourly_planning, hourlystaff_needed)\n",
    "        # append the cost to the list of costs\n",
    "        costs.append([idx, parent_cost])\n",
    "    # find and print the max and min cost\n",
    "    print('generations best is: {}, generations worst is: {}'.format(pd.DataFrame(costs)[1].min(), pd.DataFrame(costs)[1].max()))    \n",
    "    \n",
    "    # sort in ascending value by the parent cost\n",
    "    costs_tmp = pd.DataFrame(costs).sort_values(by = 1, ascending = True).reset_index(drop=True)\n",
    "    \n",
    "    # select only the top n_best parents\n",
    "    selected_parents_idx = list(costs_tmp.iloc[:n_best,0])\n",
    "    \n",
    "    # create list containing tuples of the (idx, parent) out of the selected parents\n",
    "    selected_parents = [parent for idx, parent in enumerate(parent_gen) if idx in selected_parents_idx]\n",
    "    \n",
    "    return selected_parents"
   ]
  },
  {
   "cell_type": "code",
   "execution_count": 23,
   "metadata": {},
   "outputs": [
    {
     "name": "stdout",
     "output_type": "stream",
     "text": [
      "generations best is: 202, generations worst is: 243\n"
     ]
    }
   ],
   "source": [
    "selected_parents = select_best(parent_generation, hourlystaff_needed, 2)"
   ]
  },
  {
   "cell_type": "code",
   "execution_count": 24,
   "metadata": {},
   "outputs": [
    {
     "data": {
      "text/plain": [
       "(2, 5, 11, 3)"
      ]
     },
     "execution_count": 24,
     "metadata": {},
     "output_type": "execute_result"
    }
   ],
   "source": [
    "np.array(selected_parents).shape"
   ]
  },
  {
   "cell_type": "markdown",
   "metadata": {},
   "source": [
    "# Putting all of the functions together\n",
    "This function puts everything together into a function that can be run in order to find the best staff planning solution."
   ]
  },
  {
   "cell_type": "code",
   "execution_count": 25,
   "metadata": {},
   "outputs": [],
   "source": [
    "def gen_algo(hourlystaff_needed, n_iterations):\n",
    "    # set up the generation size\n",
    "    generation_size = 500\n",
    "    \n",
    "    # create the parent generation\n",
    "    parent_gen = create_parent_generation(n_parents = generation_size, n_days = 5, n_staff = 11)\n",
    "    for it in range(n_iterations):\n",
    "        # select only the acceptable parents\n",
    "        parent_gen = select_acceptable(parent_gen)\n",
    "        # select the top 100 parents to \"breed\"\n",
    "        parent_gen = select_best(parent_gen, hourlystaff_needed, n_best = 100)\n",
    "        # combine the parents to make generation_size number of children\n",
    "        parent_gen = random_combine(parent_gen, n_offspring = generation_size)\n",
    "        # create some random mutations\n",
    "        parent_gen = mutate_gen(parent_gen, n_mutations = 1)\n",
    "    best_child = select_best(parent_gen, hourlystaff_needed, n_best = 1)\n",
    "    return best_child"
   ]
  },
  {
   "cell_type": "markdown",
   "metadata": {},
   "source": [
    "# Execute all"
   ]
  },
  {
   "cell_type": "code",
   "execution_count": 26,
   "metadata": {},
   "outputs": [
    {
     "name": "stdout",
     "output_type": "stream",
     "text": [
      "generations best is: 168, generations worst is: 268\n",
      "generations best is: 165, generations worst is: 240\n",
      "generations best is: 156, generations worst is: 228\n",
      "generations best is: 144, generations worst is: 220\n",
      "generations best is: 147, generations worst is: 210\n",
      "generations best is: 138, generations worst is: 205\n",
      "generations best is: 139, generations worst is: 200\n",
      "generations best is: 118, generations worst is: 207\n",
      "generations best is: 117, generations worst is: 188\n",
      "generations best is: 119, generations worst is: 187\n",
      "generations best is: 120, generations worst is: 177\n",
      "generations best is: 99, generations worst is: 170\n",
      "generations best is: 110, generations worst is: 177\n",
      "generations best is: 108, generations worst is: 167\n",
      "generations best is: 101, generations worst is: 164\n",
      "generations best is: 100, generations worst is: 164\n",
      "generations best is: 97, generations worst is: 180\n",
      "generations best is: 92, generations worst is: 163\n",
      "generations best is: 91, generations worst is: 149\n",
      "generations best is: 85, generations worst is: 155\n",
      "generations best is: 86, generations worst is: 148\n",
      "generations best is: 80, generations worst is: 144\n",
      "generations best is: 79, generations worst is: 135\n",
      "generations best is: 78, generations worst is: 136\n",
      "generations best is: 78, generations worst is: 148\n",
      "generations best is: 70, generations worst is: 138\n",
      "generations best is: 72, generations worst is: 137\n",
      "generations best is: 72, generations worst is: 128\n",
      "generations best is: 73, generations worst is: 129\n",
      "generations best is: 70, generations worst is: 124\n",
      "generations best is: 66, generations worst is: 135\n",
      "generations best is: 64, generations worst is: 123\n",
      "generations best is: 62, generations worst is: 118\n",
      "generations best is: 60, generations worst is: 118\n",
      "generations best is: 58, generations worst is: 113\n",
      "generations best is: 57, generations worst is: 109\n",
      "generations best is: 57, generations worst is: 102\n",
      "generations best is: 54, generations worst is: 99\n",
      "generations best is: 51, generations worst is: 104\n",
      "generations best is: 52, generations worst is: 99\n",
      "generations best is: 47, generations worst is: 92\n",
      "generations best is: 46, generations worst is: 91\n",
      "generations best is: 45, generations worst is: 90\n",
      "generations best is: 45, generations worst is: 86\n",
      "generations best is: 39, generations worst is: 83\n",
      "generations best is: 42, generations worst is: 86\n",
      "generations best is: 38, generations worst is: 77\n",
      "generations best is: 39, generations worst is: 89\n",
      "generations best is: 35, generations worst is: 75\n",
      "generations best is: 34, generations worst is: 67\n",
      "generations best is: 34, generations worst is: 71\n",
      "generations best is: 32, generations worst is: 63\n",
      "generations best is: 31, generations worst is: 67\n",
      "generations best is: 33, generations worst is: 66\n",
      "generations best is: 29, generations worst is: 61\n",
      "generations best is: 29, generations worst is: 62\n",
      "generations best is: 27, generations worst is: 58\n",
      "generations best is: 26, generations worst is: 56\n",
      "generations best is: 28, generations worst is: 57\n",
      "generations best is: 23, generations worst is: 58\n",
      "generations best is: 25, generations worst is: 54\n",
      "generations best is: 24, generations worst is: 56\n",
      "generations best is: 25, generations worst is: 57\n",
      "generations best is: 25, generations worst is: 51\n",
      "generations best is: 22, generations worst is: 48\n",
      "generations best is: 21, generations worst is: 44\n",
      "generations best is: 21, generations worst is: 47\n",
      "generations best is: 21, generations worst is: 45\n",
      "generations best is: 19, generations worst is: 44\n",
      "generations best is: 19, generations worst is: 47\n",
      "generations best is: 19, generations worst is: 41\n",
      "generations best is: 18, generations worst is: 41\n",
      "generations best is: 18, generations worst is: 40\n",
      "generations best is: 17, generations worst is: 40\n",
      "generations best is: 18, generations worst is: 40\n",
      "generations best is: 17, generations worst is: 38\n",
      "generations best is: 16, generations worst is: 39\n",
      "generations best is: 17, generations worst is: 40\n",
      "generations best is: 17, generations worst is: 38\n",
      "generations best is: 17, generations worst is: 39\n",
      "generations best is: 16, generations worst is: 38\n",
      "generations best is: 17, generations worst is: 37\n",
      "generations best is: 16, generations worst is: 37\n",
      "generations best is: 16, generations worst is: 37\n",
      "generations best is: 16, generations worst is: 38\n",
      "generations best is: 16, generations worst is: 39\n",
      "generations best is: 16, generations worst is: 38\n",
      "generations best is: 16, generations worst is: 38\n",
      "generations best is: 16, generations worst is: 36\n",
      "generations best is: 16, generations worst is: 38\n",
      "generations best is: 16, generations worst is: 36\n",
      "generations best is: 16, generations worst is: 35\n",
      "generations best is: 15, generations worst is: 37\n",
      "generations best is: 16, generations worst is: 38\n",
      "generations best is: 16, generations worst is: 36\n",
      "generations best is: 16, generations worst is: 37\n",
      "generations best is: 15, generations worst is: 38\n",
      "generations best is: 16, generations worst is: 36\n",
      "generations best is: 15, generations worst is: 35\n",
      "generations best is: 16, generations worst is: 35\n",
      "generations best is: 16, generations worst is: 38\n"
     ]
    }
   ],
   "source": [
    "best_planning = gen_algo(hourlystaff_needed, n_iterations = 100)"
   ]
  },
  {
   "cell_type": "code",
   "execution_count": 27,
   "metadata": {},
   "outputs": [
    {
     "name": "stdout",
     "output_type": "stream",
     "text": [
      "[array([[[ 0, 12,  2],\n",
      "        [ 1, 16,  4],\n",
      "        [ 2,  6,  8],\n",
      "        [ 3, 12,  8],\n",
      "        [ 4,  5,  4],\n",
      "        [ 5, 12,  8],\n",
      "        [ 6, 12,  2],\n",
      "        [ 7,  6,  8],\n",
      "        [ 8, 17,  8],\n",
      "        [ 9,  6,  3],\n",
      "        [10, 17,  8]],\n",
      "\n",
      "       [[ 0, 17,  3],\n",
      "        [ 1, 12,  2],\n",
      "        [ 2,  6,  3],\n",
      "        [ 3,  6,  8],\n",
      "        [ 4,  6,  3],\n",
      "        [ 5, 17,  9],\n",
      "        [ 6, 17,  7],\n",
      "        [ 7, 12,  8],\n",
      "        [ 8, 17,  3],\n",
      "        [ 9, 12,  8],\n",
      "        [10,  6,  8]],\n",
      "\n",
      "       [[ 0, 17,  3],\n",
      "        [ 1, 20,  0],\n",
      "        [ 2,  6,  3],\n",
      "        [ 3,  6,  3],\n",
      "        [ 4,  6,  8],\n",
      "        [ 5, 12,  8],\n",
      "        [ 6, 17,  3],\n",
      "        [ 7, 12,  8],\n",
      "        [ 8, 17,  8],\n",
      "        [ 9,  6,  8],\n",
      "        [10, 17,  7]],\n",
      "\n",
      "       [[ 0, 17,  7],\n",
      "        [ 1,  6,  3],\n",
      "        [ 2, 17,  3],\n",
      "        [ 3, 12,  8],\n",
      "        [ 4, 12,  8],\n",
      "        [ 5,  6,  8],\n",
      "        [ 6, 17,  3],\n",
      "        [ 7,  6,  3],\n",
      "        [ 8, 17,  7],\n",
      "        [ 9,  6,  8],\n",
      "        [10, 12,  2]],\n",
      "\n",
      "       [[ 0,  6,  3],\n",
      "        [ 1, 12,  8],\n",
      "        [ 2,  6,  8],\n",
      "        [ 3, 17,  8],\n",
      "        [ 4,  6,  3],\n",
      "        [ 5, 17,  9],\n",
      "        [ 6,  6,  8],\n",
      "        [ 7, 17,  3],\n",
      "        [ 8, 16,  4],\n",
      "        [ 9, 12,  8],\n",
      "        [10, 12,  2]]])]\n"
     ]
    }
   ],
   "source": [
    "print(best_planning)"
   ]
  },
  {
   "cell_type": "markdown",
   "metadata": {},
   "source": [
    "# Comparison between the best child's planning and the hourly staff needed"
   ]
  },
  {
   "cell_type": "code",
   "execution_count": 28,
   "metadata": {},
   "outputs": [
    {
     "name": "stdout",
     "output_type": "stream",
     "text": [
      "[[0 0 0 0 0 1 4 4 4 2 2 2 6 6 2 2 3 5 5 5 2 2 2 2]\n",
      " [0 0 0 0 0 0 4 4 4 2 2 2 5 5 2 2 2 6 6 6 2 2 2 2]\n",
      " [0 0 0 0 0 0 4 4 4 2 2 2 4 4 2 2 2 6 6 6 2 2 2 2]\n",
      " [0 0 0 0 0 0 4 4 4 2 2 2 5 5 2 2 2 6 6 6 2 2 2 2]\n",
      " [0 0 0 0 0 0 4 4 4 2 2 2 5 5 2 2 3 6 6 6 2 2 2 2]]\n"
     ]
    }
   ],
   "source": [
    "print(staffplanning_to_hourlyplanning(best_planning[0]))"
   ]
  },
  {
   "cell_type": "code",
   "execution_count": 29,
   "metadata": {},
   "outputs": [
    {
     "name": "stdout",
     "output_type": "stream",
     "text": [
      "[[0 0 0 0 0 0 4 4 4 2 2 2 6 6 2 2 2 6 6 6 2 2 2 2]\n",
      " [0 0 0 0 0 0 4 4 4 2 2 2 6 6 2 2 2 6 6 6 2 2 2 2]\n",
      " [0 0 0 0 0 0 4 4 4 2 2 2 6 6 2 2 2 6 6 6 2 2 2 2]\n",
      " [0 0 0 0 0 0 4 4 4 2 2 2 6 6 2 2 2 6 6 6 2 2 2 2]\n",
      " [0 0 0 0 0 0 4 4 4 2 2 2 6 6 2 2 2 6 6 6 2 2 2 2]]\n"
     ]
    }
   ],
   "source": [
    "print(hourlystaff_needed)"
   ]
  },
  {
   "cell_type": "code",
   "execution_count": null,
   "metadata": {},
   "outputs": [],
   "source": []
  }
 ],
 "metadata": {
  "kernelspec": {
   "display_name": "Python 3",
   "language": "python",
   "name": "python3"
  },
  "language_info": {
   "codemirror_mode": {
    "name": "ipython",
    "version": 3
   },
   "file_extension": ".py",
   "mimetype": "text/x-python",
   "name": "python",
   "nbconvert_exporter": "python",
   "pygments_lexer": "ipython3",
   "version": "3.8.5"
  }
 },
 "nbformat": 4,
 "nbformat_minor": 4
}
