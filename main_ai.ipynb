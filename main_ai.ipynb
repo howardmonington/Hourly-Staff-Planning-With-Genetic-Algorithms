{
 "cells": [
  {
   "cell_type": "markdown",
   "metadata": {},
   "source": [
    "Ideas to improve:\n",
    "Have lists of 5 where the staff can have 2 shifts per day (checking to make sure that they don't do 2 shifts at the same time)\n",
    "Have the opportunity to work over the weekends"
   ]
  },
  {
   "cell_type": "markdown",
   "metadata": {},
   "source": [
    "# Hourly Staff Planning"
   ]
  },
  {
   "cell_type": "code",
   "execution_count": 1,
   "metadata": {},
   "outputs": [],
   "source": [
    "import numpy as np\n",
    "import pandas as pd"
   ]
  },
  {
   "cell_type": "markdown",
   "metadata": {},
   "source": [
    "Staff planning is a topic of optimization research that comes back in many companies. As soon as a company has many employees, it becomes hard to find planning that suits the business needs while respecting certain constraints\n",
    "\n",
    "I'll be starting with the shape of the staff planning that is required\n",
    "I'll work with staff planning in which all employees work every weekday, 5 days a week (the shop is closed on the weekend)\n",
    "A shift is given by a starting time and shift duration\n",
    "I have data on the number of staff needed per hour\n",
    "An employee can be planned to not work on a certain day\n",
    "\n",
    "## Staff Planning Initial Shape\n",
    "The staff planning is represented as a list per day. There are 5 lists for each of the 5 days\n",
    "Each day consists of many lists of lenght 3\n",
    "Each list of 3 is an employee with the following items: (staff id, starting time, shift duration)\n",
    "The number of lists is the number of employees that are possibly available on that day"
   ]
  },
  {
   "cell_type": "code",
   "execution_count": 2,
   "metadata": {},
   "outputs": [],
   "source": [
    "staff_planning = [\n",
    "    [[0, 0, 10],[1, 0, 10],[2, 0, 10],[3, 0, 10],[4, 0, 10],[5, 0, 10],[6, 0, 10],[7, 0, 10],[8, 0, 10],[9, 0, 10],[10, 0, 10]],\n",
    "    [[0, 0, 10],[1, 0, 10],[2, 0, 10],[3, 0, 10],[4, 0, 10],[5, 0, 10],[6, 0, 10],[7, 0, 10],[8, 0, 10],[9, 0, 10],[10, 0, 10]],\n",
    "    [[0, 0, 10],[1, 0, 10],[2, 0, 10],[3, 0, 10],[4, 0, 10],[5, 0, 10],[6, 0, 10],[7, 0, 10],[8, 0, 10],[9, 0, 10],[10, 0, 10]],\n",
    "    [[0, 0, 10],[1, 0, 10],[2, 0, 10],[3, 0, 10],[4, 0, 10],[5, 0, 10],[6, 0, 10],[7, 0, 10],[8, 0, 10],[9, 0, 10],[10, 0, 10]],\n",
    "    [[0, 0, 10],[1, 0, 10],[2, 0, 10],[3, 0, 10],[4, 0, 10],[5, 0, 10],[6, 0, 10],[7, 0, 10],[8, 0, 10],[9, 0, 10],[10, 0, 10]]\n",
    "]"
   ]
  },
  {
   "cell_type": "code",
   "execution_count": 8,
   "metadata": {},
   "outputs": [
    {
     "data": {
      "text/plain": [
       "[3, 0, 10]"
      ]
     },
     "execution_count": 8,
     "metadata": {},
     "output_type": "execute_result"
    }
   ],
   "source": [
    "staff_planning[0][3]"
   ]
  },
  {
   "cell_type": "markdown",
   "metadata": {},
   "source": [
    "## Staff Planning for Shop\n",
    "In order to optimize the staff planning, I need information on what would be perfect planning\n",
    "Based on previous days, I know how many staff are needed every hour\n",
    "The staff needed is in the following shape:\n",
    "<li> list of days </li>\n",
    "<li> each day is a list of 24 hours, with the number of employees needed every hour </li>"
   ]
  },
  {
   "cell_type": "code",
   "execution_count": 9,
   "metadata": {},
   "outputs": [],
   "source": [
    "hourlystaff_needed = np.array([\n",
    "    [0, 0, 0, 0, 0, 0, 4, 4, 4, 2, 2, 2, 6, 6, 2, 2, 2, 6, 6, 6, 2, 2, 2, 2],\n",
    "    [0, 0, 0, 0, 0, 0, 4, 4, 4, 2, 2, 2, 6, 6, 2, 2, 2, 6, 6, 6, 2, 2, 2, 2],\n",
    "    [0, 0, 0, 0, 0, 0, 4, 4, 4, 2, 2, 2, 6, 6, 2, 2, 2, 6, 6, 6, 2, 2, 2, 2],\n",
    "    [0, 0, 0, 0, 0, 0, 4, 4, 4, 2, 2, 2, 6, 6, 2, 2, 2, 6, 6, 6, 2, 2, 2, 2],\n",
    "    [0, 0, 0, 0, 0, 0, 4, 4, 4, 2, 2, 2, 6, 6, 2, 2, 2, 6, 6, 6, 2, 2, 2, 2]\n",
    "])"
   ]
  },
  {
   "cell_type": "code",
   "execution_count": 15,
   "metadata": {},
   "outputs": [
    {
     "data": {
      "text/plain": [
       "array([0, 0, 0, 0, 0, 0, 4, 4, 4, 2, 2, 2, 6, 6, 2, 2, 2, 6, 6, 6, 2, 2,\n",
       "       2, 2])"
      ]
     },
     "execution_count": 15,
     "metadata": {},
     "output_type": "execute_result"
    }
   ],
   "source": [
    "hourlystaff_needed[0]"
   ]
  },
  {
   "cell_type": "markdown",
   "metadata": {},
   "source": [
    "## Conversion from shifts to staff-per-hour\n",
    "<li> In the optimization, the genetic algorithm will iteratively change the starting times and the durations </li>\n",
    "<li> This is then converted into number of employees per hour </li>\n",
    "<li> Then I measure how far away this is from the staff-needed planning </li>\n",
    "In order to do this, I will need a function to convert one type of planning into the other one"
   ]
  },
  {
   "cell_type": "code",
   "execution_count": 17,
   "metadata": {},
   "outputs": [],
   "source": [
    "# analyze whether the employee is present at a given time with yes/no\n",
    "# based on the employee list of 3 (id, start time, duration)\n",
    "def employee_present(employee, time):\n",
    "    employee_start_time = employee[1]\n",
    "    employee_duration = employee[2]\n",
    "    employee_end_time = employee_start_time + employee_duration\n",
    "    if (time >= employee_start_time) and (time < employee_end_time):\n",
    "        return True\n",
    "    return False"
   ]
  },
  {
   "cell_type": "code",
   "execution_count": 21,
   "metadata": {},
   "outputs": [
    {
     "data": {
      "text/plain": [
       "True"
      ]
     },
     "execution_count": 21,
     "metadata": {},
     "output_type": "execute_result"
    }
   ],
   "source": [
    "employee_present(staff_planning[0][3], 9)"
   ]
  },
  {
   "cell_type": "code",
   "execution_count": 40,
   "metadata": {},
   "outputs": [],
   "source": [
    "# convert the staff planning (lists of staff id, starting time, shift duration) to the staff present at each hour\n",
    "def staffplanning_to_hourlyplanning(staff_planning):\n",
    "    hourlystaff_week = []\n",
    "    for day in staff_planning:\n",
    "        \n",
    "        hourlystaff_day = []\n",
    "        for employee in day:\n",
    "            \n",
    "            employee_present_hour = []\n",
    "            for time in range(0, 24):\n",
    "                # an array for each employee and True/False for whether they are working each hour\n",
    "                employee_present_hour.append(employee_present(employee, time))\n",
    "            \n",
    "            # an array of all employees working in a day and True/False for each hour\n",
    "            hourlystaff_day.append(employee_present_hour)\n",
    "        \n",
    "        # an array containing a week's worth of data of all employees working each day and True/False for each huor\n",
    "        hourlystaff_week.append(hourlystaff_day)\n",
    "    \n",
    "    # counts up the number of staff working each hour of each day\n",
    "    hourlystaff_week = np.array(hourlystaff_week).sum(axis = 1)\n",
    "    return hourlystaff_week"
   ]
  },
  {
   "cell_type": "code",
   "execution_count": 45,
   "metadata": {},
   "outputs": [],
   "source": [
    "hourlystaff_week = staffplanning_to_hourlyplanning(staff_planning)"
   ]
  },
  {
   "cell_type": "code",
   "execution_count": 46,
   "metadata": {},
   "outputs": [
    {
     "data": {
      "text/plain": [
       "array([[11, 11, 11, 11, 11, 11, 11, 11, 11, 11,  0,  0,  0,  0,  0,  0,\n",
       "         0,  0,  0,  0,  0,  0,  0,  0],\n",
       "       [11, 11, 11, 11, 11, 11, 11, 11, 11, 11,  0,  0,  0,  0,  0,  0,\n",
       "         0,  0,  0,  0,  0,  0,  0,  0],\n",
       "       [11, 11, 11, 11, 11, 11, 11, 11, 11, 11,  0,  0,  0,  0,  0,  0,\n",
       "         0,  0,  0,  0,  0,  0,  0,  0],\n",
       "       [11, 11, 11, 11, 11, 11, 11, 11, 11, 11,  0,  0,  0,  0,  0,  0,\n",
       "         0,  0,  0,  0,  0,  0,  0,  0],\n",
       "       [11, 11, 11, 11, 11, 11, 11, 11, 11, 11,  0,  0,  0,  0,  0,  0,\n",
       "         0,  0,  0,  0,  0,  0,  0,  0]])"
      ]
     },
     "execution_count": 46,
     "metadata": {},
     "output_type": "execute_result"
    }
   ],
   "source": [
    "hourlystaff_week"
   ]
  },
  {
   "cell_type": "markdown",
   "metadata": {},
   "source": [
    "## Cost function to evaluate how well the staff planning performed based on the staff needed"
   ]
  },
  {
   "cell_type": "code",
   "execution_count": 59,
   "metadata": {},
   "outputs": [],
   "source": [
    "# the cost is calculated as hours understaffed + hours overstaffed\n",
    "def cost(hourlystaff, hourlystaff_needed):\n",
    "    # finds the difference between the actual hourly staff compared with the hourlystaff needed\n",
    "    errors = hourlystaff - hourlystaff_needed\n",
    "    \n",
    "    # calculates how many hours were overstaffed and by how much\n",
    "    overstaff = abs(errors[errors > 0].sum())\n",
    "    \n",
    "    # calculates how many hours were understaffed and by how much\n",
    "    understaff = abs(errors[errors < 0].sum())\n",
    "    \n",
    "    # assigning a cost to each hour overstaffed or understaffed\n",
    "    overstaff_cost = 1\n",
    "    understaff_cost = 1\n",
    "    \n",
    "    # calculating the cost function\n",
    "    cost = overstaff_cost * overstaff + understaff_cost * understaff\n",
    "    return cost"
   ]
  },
  {
   "cell_type": "code",
   "execution_count": 61,
   "metadata": {},
   "outputs": [
    {
     "data": {
      "text/plain": [
       "720"
      ]
     },
     "execution_count": 61,
     "metadata": {},
     "output_type": "execute_result"
    }
   ],
   "source": [
    "# cost of default\n",
    "cost(hourlystaff_week, hourlystaff_needed)"
   ]
  },
  {
   "cell_type": "code",
   "execution_count": null,
   "metadata": {},
   "outputs": [],
   "source": []
  }
 ],
 "metadata": {
  "kernelspec": {
   "display_name": "Python 3",
   "language": "python",
   "name": "python3"
  },
  "language_info": {
   "codemirror_mode": {
    "name": "ipython",
    "version": 3
   },
   "file_extension": ".py",
   "mimetype": "text/x-python",
   "name": "python",
   "nbconvert_exporter": "python",
   "pygments_lexer": "ipython3",
   "version": "3.8.5"
  }
 },
 "nbformat": 4,
 "nbformat_minor": 4
}
